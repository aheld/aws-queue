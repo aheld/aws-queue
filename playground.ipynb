{
 "cells": [
  {
   "cell_type": "code",
   "execution_count": 1,
   "metadata": {
    "collapsed": false
   },
   "outputs": [],
   "source": [
    "import boto3\n",
    "\n",
    "sqs = boto3.resource('sqs', 'us-east-1')\n",
    "queue = sqs.get_queue_by_name(QueueName='AARON_queue')\n",
    "\n",
    "def get_messages():\n",
    "    for message in queue.receive_messages(\n",
    "                MaxNumberOfMessages=3,\n",
    "                WaitTimeSeconds=2):\n",
    "        yield message\n",
    "        \n",
    "messages = [m for m in get_messages()]"
   ]
  },
  {
   "cell_type": "code",
   "execution_count": 10,
   "metadata": {
    "collapsed": false
   },
   "outputs": [
    {
     "name": "stdout",
     "output_type": "stream",
     "text": [
      "{'Records': [{'awsRegion': 'us-east-1',\n",
      "              'eventName': 'ObjectCreated:Put',\n",
      "              'eventSource': 'aws:s3',\n",
      "              'eventTime': '2016-08-12T00:40:02.617Z',\n",
      "              'eventVersion': '2.0',\n",
      "              'requestParameters': {'sourceIPAddress': '73.141.171.30'},\n",
      "              'responseElements': {'x-amz-id-2': 'roahqJv0dqbwXzusfRNEpR1MHScrubSl0ilD+FIX0y1svr5E/ZHr5HFeWBTNjz6K',\n",
      "                                   'x-amz-request-id': '732819F3B01EBF06'},\n",
      "              's3': {'bucket': {'arn': 'arn:aws:s3:::code-kata',\n",
      "                                'name': 'code-kata',\n",
      "                                'ownerIdentity': {'principalId': 'A2HL0J1LRYJEUK'}},\n",
      "                     'configurationId': 'code-kata',\n",
      "                     'object': {'eTag': '9b81c1ec459490aae091cdc63d9ef897',\n",
      "                                'key': 'Jolly_by_BeBz.jpg',\n",
      "                                'sequencer': '0057AD1AE280168B17',\n",
      "                                'size': 231928},\n",
      "                     's3SchemaVersion': '1.0'},\n",
      "              'userIdentity': {'principalId': 'AWS:AIDAIVXCAMCY75COZ7C3E'}}]}\n"
     ]
    },
    {
     "data": {
      "text/plain": [
       "['s3://code-kata/Jolly_by_BeBz.jpg']"
      ]
     },
     "execution_count": 10,
     "metadata": {},
     "output_type": "execute_result"
    }
   ],
   "source": [
    "import json\n",
    "m = messages[0]\n",
    "body = json.loads(m.body)\n",
    "message = json.loads(body['Message'])\n",
    "\n",
    "from pprint import pprint\n",
    "#pprint(m)\n",
    "body = json.loads(m.body)\n",
    "pprint(message)\n",
    "#pprint(body, indent=2)    \n",
    "[\"s3://{}/{}\".format(x['s3']['bucket']['name'], x['s3']['object']['key']) for x in message['Records'] ]"
   ]
  },
  {
   "cell_type": "code",
   "execution_count": 54,
   "metadata": {
    "collapsed": false
   },
   "outputs": [
    {
     "data": {
      "text/plain": [
       "'https://queue.amazonaws.com/106715121600/AARON_queue'"
      ]
     },
     "execution_count": 54,
     "metadata": {},
     "output_type": "execute_result"
    }
   ],
   "source": [
    "queue.url"
   ]
  },
  {
   "cell_type": "code",
   "execution_count": 2,
   "metadata": {
    "collapsed": false
   },
   "outputs": [
    {
     "data": {
      "text/plain": [
       "[sqs.Message(queue_url='https://queue.amazonaws.com/106715121600/AARON_queue', receipt_handle='AQEB71Cst0keX/Mt5G8HARydYwb6Lp0gbyIdO9lDMMXCddAgNHFUkgTylQKISRU8OeTptSxW9s8Z49jRUHHJWp1Mv/F8mYDVwpaCCh0LboT2iZwwcfZ5xaF0CvLSMKALEPK9DV22M55xza9Q1nCupRsQTIr49688HP1fKROjHksk8uY5zOqVeq62p4VG5B3XgSwTiyh3HoRVrdiykM9Q/Gb6pFdfVbZSqdApb0cI1VVGuqmJ4WIE5VBJiHhPBSuFpI+uoRXXzpaWARQJXFSsLZgupmbjTICuRi8jFTroFxSMCIQ3MQkATo2hfCub2m1llzcA6lTelY155K8dwK6T58kqfqECi03SXb7VKxuJjRjJzLAttVJScslyKwb0r/NtSltI')]"
      ]
     },
     "execution_count": 2,
     "metadata": {},
     "output_type": "execute_result"
    }
   ],
   "source": [
    "messages"
   ]
  }
 ],
 "metadata": {
  "kernelspec": {
   "display_name": "Python 3",
   "language": "python",
   "name": "python3"
  },
  "language_info": {
   "codemirror_mode": {
    "name": "ipython",
    "version": 3
   },
   "file_extension": ".py",
   "mimetype": "text/x-python",
   "name": "python",
   "nbconvert_exporter": "python",
   "pygments_lexer": "ipython3",
   "version": "3.4.3"
  }
 },
 "nbformat": 4,
 "nbformat_minor": 1
}
