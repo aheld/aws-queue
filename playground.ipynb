{
 "cells": [
  {
   "cell_type": "code",
   "execution_count": 4,
   "metadata": {
    "collapsed": false
   },
   "outputs": [],
   "source": [
    "import boto3\n",
    "\n",
    "sqs = boto3.resource('sqs', 'us-east-1')\n",
    "queue = sqs.get_queue_by_name(QueueName='AARON_queue')\n",
    "\n",
    "def get_messages():\n",
    "    for message in queue.receive_messages(\n",
    "                MaxNumberOfMessages=3,\n",
    "                WaitTimeSeconds=2):\n",
    "        yield message\n",
    "        \n",
    "messages = [m for m in get_messages()]"
   ]
  },
  {
   "cell_type": "code",
   "execution_count": 43,
   "metadata": {
    "collapsed": false
   },
   "outputs": [
    {
     "data": {
      "text/plain": [
       "['s3://code-kata/Jolly_by_BeBz.jpg']"
      ]
     },
     "execution_count": 43,
     "metadata": {},
     "output_type": "execute_result"
    }
   ],
   "source": [
    "import json\n",
    "m = messages[0]\n",
    "body = json.loads(m.body)\n",
    "message = json.loads(body['Message'])\n",
    "\n",
    "from pprint import pprint\n",
    "# pprint(message)\n",
    "[\"s3://{}/{}\".format(x['s3']['bucket']['name'], x['s3']['object']['key']) for x in message['Records'] ]"
   ]
  },
  {
   "cell_type": "code",
   "execution_count": 54,
   "metadata": {
    "collapsed": false
   },
   "outputs": [
    {
     "data": {
      "text/plain": [
       "'https://queue.amazonaws.com/106715121600/AARON_queue'"
      ]
     },
     "execution_count": 54,
     "metadata": {},
     "output_type": "execute_result"
    }
   ],
   "source": [
    "queue.url"
   ]
  }
 ],
 "metadata": {
  "kernelspec": {
   "display_name": "Python 3",
   "language": "python",
   "name": "python3"
  },
  "language_info": {
   "codemirror_mode": {
    "name": "ipython",
    "version": 3
   },
   "file_extension": ".py",
   "mimetype": "text/x-python",
   "name": "python",
   "nbconvert_exporter": "python",
   "pygments_lexer": "ipython3",
   "version": "3.4.3"
  }
 },
 "nbformat": 4,
 "nbformat_minor": 1
}
